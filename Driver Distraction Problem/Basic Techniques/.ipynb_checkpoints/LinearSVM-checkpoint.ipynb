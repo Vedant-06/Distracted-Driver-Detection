{
 "cells": [
  {
   "cell_type": "code",
   "execution_count": 14,
   "metadata": {},
   "outputs": [],
   "source": [
    "import random\n",
    "import numpy as np\n",
    "import os\n",
    "import glob\n",
    "import cv2"
   ]
  },
  {
   "cell_type": "code",
   "execution_count": 15,
   "metadata": {},
   "outputs": [],
   "source": [
    "def resize(path, img_height, img_width):\n",
    "    img = cv2.imread(path)\n",
    "    resized = cv2.resize(img, (img_height, img_width))\n",
    "    return resized"
   ]
  },
  {
   "cell_type": "code",
   "execution_count": 16,
   "metadata": {},
   "outputs": [],
   "source": [
    "def get_data():\n",
    "    train_dir = \"../data/train/\"\n",
    "    X_train = []\n",
    "    y_train = []\n",
    "    \n",
    "    for j in range(10):\n",
    "        print('Load folder c{}'.format(j))\n",
    "        path = os.path.join(train_dir, 'c' + str(j), '*.jpg')\n",
    "        files = glob.glob(path)\n",
    "        for fl in files:\n",
    "            flbase = os.path.basename(fl)\n",
    "            img = resize(fl, 64, 64)\n",
    "            X_train.append(img)\n",
    "            y_train.append(j)\n",
    "    return X_train, y_train"
   ]
  },
  {
   "cell_type": "code",
   "execution_count": 17,
   "metadata": {},
   "outputs": [
    {
     "name": "stdout",
     "output_type": "stream",
     "text": [
      "Load folder c0\n",
      "Load folder c1\n",
      "Load folder c2\n",
      "Load folder c3\n",
      "Load folder c4\n",
      "Load folder c5\n",
      "Load folder c6\n",
      "Load folder c7\n",
      "Load folder c8\n",
      "Load folder c9\n"
     ]
    }
   ],
   "source": [
    "X_train, y = get_data()"
   ]
  },
  {
   "cell_type": "code",
   "execution_count": 18,
   "metadata": {},
   "outputs": [
    {
     "name": "stdout",
     "output_type": "stream",
     "text": [
      "(22424, 64, 64, 3)\n"
     ]
    }
   ],
   "source": [
    "X_train = np.asarray(X_train)\n",
    "y = np.asarray(y)\n",
    "print(X_train.shape)"
   ]
  },
  {
   "cell_type": "code",
   "execution_count": 19,
   "metadata": {},
   "outputs": [],
   "source": [
    "from sklearn.model_selection import train_test_split\n",
    "X_train, X_val, y_train, y_val = train_test_split(X_train, y, test_size=0.2, random_state=42)"
   ]
  },
  {
   "cell_type": "code",
   "execution_count": 20,
   "metadata": {},
   "outputs": [
    {
     "name": "stdout",
     "output_type": "stream",
     "text": [
      "Training data shape:  (17939, 12288)\n",
      "Validation data shape:  (4485, 12288)\n"
     ]
    }
   ],
   "source": [
    "X_train = np.reshape(X_train, (X_train.shape[0], -1))\n",
    "X_val = np.reshape(X_val, (X_val.shape[0], -1))\n",
    "print('Training data shape: ', X_train.shape)\n",
    "print('Validation data shape: ', X_val.shape)"
   ]
  },
  {
   "cell_type": "code",
   "execution_count": 40,
   "metadata": {},
   "outputs": [
    {
     "name": "stdout",
     "output_type": "stream",
     "text": [
      "lr 8.000000e-09 reg 7.000000e+04 train accuracy: 0.539383 val accuracy: 0.521516\n",
      "lr 8.000000e-09 reg 8.000000e+04 train accuracy: 0.600256 val accuracy: 0.577703\n",
      "lr 8.000000e-09 reg 9.000000e+04 train accuracy: 0.638776 val accuracy: 0.621405\n",
      "lr 9.000000e-09 reg 7.000000e+04 train accuracy: 0.613747 val accuracy: 0.594649\n",
      "lr 9.000000e-09 reg 8.000000e+04 train accuracy: 0.650482 val accuracy: 0.635229\n",
      "lr 9.000000e-09 reg 9.000000e+04 train accuracy: 0.688556 val accuracy: 0.671349\n",
      "lr 1.000000e-08 reg 7.000000e+04 train accuracy: 0.665366 val accuracy: 0.647938\n",
      "lr 1.000000e-08 reg 8.000000e+04 train accuracy: 0.716707 val accuracy: 0.699220\n",
      "lr 1.000000e-08 reg 9.000000e+04 train accuracy: 0.728246 val accuracy: 0.713935\n",
      "best validation accuracy achieved during cross-validation: 0.713935\n"
     ]
    }
   ],
   "source": [
    "from linear_classifier import LinearSVM\n",
    "\n",
    "learning_rates = [9e-9, 1e-8, 8e-9]\n",
    "regularization_strengths = [9e4, 7e4, 8e4]\n",
    "\n",
    "results = {}\n",
    "best_val = -1   \n",
    "best_svm = None \n",
    "\n",
    "for lr in learning_rates:\n",
    "    for reg in regularization_strengths:\n",
    "        linearSVM = LinearSVM()\n",
    "        linearSVM.train(X_train, y_train, learning_rate =lr, reg=reg, num_iters=1500, verbose=False)\n",
    "        y_train_pred = linearSVM.predict(X_train)\n",
    "        y_val_pred = linearSVM.predict(X_val)\n",
    "        train_accuracy = np.mean(y_train == y_train_pred)\n",
    "        val_accuracy = np.mean(y_val == y_val_pred)\n",
    "        results[(lr, reg)] = (train_accuracy, val_accuracy)\n",
    "        if val_accuracy > best_val:\n",
    "            best_val = val_accuracy\n",
    "            best_svm = linearSVM\n",
    "        \n",
    "for lr, reg in sorted(results):\n",
    "    train_accuracy, val_accuracy = results[(lr, reg)]\n",
    "    print('lr %e reg %e train accuracy: %f val accuracy: %f' % (\n",
    "                lr, reg, train_accuracy, val_accuracy))\n",
    "    \n",
    "print('best validation accuracy achieved during cross-validation: %f' % best_val)"
   ]
  },
  {
   "cell_type": "code",
   "execution_count": 50,
   "metadata": {},
   "outputs": [
    {
     "name": "stdout",
     "output_type": "stream",
     "text": [
      "iteration 0 / 1500: loss 11145.865039\n",
      "iteration 100 / 1500: loss 7750.145955\n",
      "iteration 200 / 1500: loss 5400.788047\n",
      "iteration 300 / 1500: loss 3767.183028\n",
      "iteration 400 / 1500: loss 2625.839675\n",
      "iteration 500 / 1500: loss 1831.718640\n",
      "iteration 600 / 1500: loss 1277.938181\n",
      "iteration 700 / 1500: loss 891.324813\n",
      "iteration 800 / 1500: loss 622.656304\n",
      "iteration 900 / 1500: loss 434.780359\n",
      "iteration 1000 / 1500: loss 304.165199\n",
      "iteration 1100 / 1500: loss 212.990656\n",
      "iteration 1200 / 1500: loss 149.911440\n",
      "iteration 1300 / 1500: loss 105.460626\n",
      "iteration 1400 / 1500: loss 74.255008\n",
      "train accuracy: 0.728246 val accuracy: 0.713935\n"
     ]
    },
    {
     "data": {
      "text/plain": [
       "<Figure size 640x480 with 1 Axes>"
      ]
     },
     "metadata": {},
     "output_type": "display_data"
    }
   ],
   "source": [
    "import matplotlib.pyplot as plt\n",
    "linearSVM = LinearSVM()\n",
    "loss_hist = linearSVM.train(X_train, y_train, learning_rate =1e-8, reg=9e4, num_iters=1500, verbose=True)\n",
    "y_train_pred = linearSVM.predict(X_train)\n",
    "y_val_pred = linearSVM.predict(X_val)\n",
    "train_accuracy = np.mean(y_train == y_train_pred)\n",
    "val_accuracy = np.mean(y_val == y_val_pred)\n",
    "print('train accuracy: %f val accuracy: %f' % (train_accuracy, val_accuracy))"
   ]
  },
  {
   "cell_type": "code",
   "execution_count": 53,
   "metadata": {},
   "outputs": [
    {
     "data": {
      "image/png": "[encoded data removed]",
      "text/plain": [
       "<Figure size 432x288 with 1 Axes>"
      ]
     },
     "metadata": {
      "needs_background": "light"
     },
     "output_type": "display_data"
    }
   ],
   "source": [
    "plt.plot(loss_hist)\n",
    "plt.xlabel('Iteration number')\n",
    "plt.ylabel('Loss value')\n",
    "plt.savefig(\"loss.jpg\")"
   ]
  },
  {
   "cell_type": "code",
   "execution_count": null,
   "metadata": {},
   "outputs": [],
   "source": []
  }
 ],
 "metadata": {
  "kernelspec": {
   "display_name": "Python 3",
   "language": "python",
   "name": "python3"
  },
  "language_info": {
   "codemirror_mode": {
    "name": "ipython",
    "version": 3
   },
   "file_extension": ".py",
   "mimetype": "text/x-python",
   "name": "python",
   "nbconvert_exporter": "python",
   "pygments_lexer": "ipython3",
   "version": "3.7.3"
  }
 },
 "nbformat": 4,
 "nbformat_minor": 1
}
